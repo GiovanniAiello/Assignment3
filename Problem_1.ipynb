{
 "cells": [
  {
   "cell_type": "markdown",
   "id": "Vv-17QH2M1fW",
   "metadata": {
    "id": "Vv-17QH2M1fW",
    "pycharm": {
     "name": "#%% md\n"
    }
   },
   "source": [
    "We first install and import necessary packages."
   ]
  },
  {
   "cell_type": "code",
   "execution_count": 99,
   "id": "EwUN5g20CFnH",
   "metadata": {
    "id": "EwUN5g20CFnH",
    "pycharm": {
     "name": "#%%\n"
    }
   },
   "outputs": [
    {
     "name": "stdout",
     "output_type": "stream",
     "text": [
      "Requirement already satisfied: torch in /home/ga/anaconda3/lib/python3.8/site-packages (1.13.0)\n",
      "Requirement already satisfied: nvidia-cudnn-cu11==8.5.0.96 in /home/ga/anaconda3/lib/python3.8/site-packages (from torch) (8.5.0.96)\n",
      "Requirement already satisfied: nvidia-cuda-runtime-cu11==11.7.99 in /home/ga/anaconda3/lib/python3.8/site-packages (from torch) (11.7.99)\n",
      "Requirement already satisfied: nvidia-cublas-cu11==11.10.3.66 in /home/ga/anaconda3/lib/python3.8/site-packages (from torch) (11.10.3.66)\n",
      "Requirement already satisfied: nvidia-cuda-nvrtc-cu11==11.7.99 in /home/ga/anaconda3/lib/python3.8/site-packages (from torch) (11.7.99)\n",
      "Requirement already satisfied: typing-extensions in /home/ga/anaconda3/lib/python3.8/site-packages (from torch) (4.4.0)\n",
      "Requirement already satisfied: wheel in /home/ga/anaconda3/lib/python3.8/site-packages (from nvidia-cuda-runtime-cu11==11.7.99->torch) (0.35.1)\n",
      "Requirement already satisfied: setuptools in /home/ga/anaconda3/lib/python3.8/site-packages (from nvidia-cuda-runtime-cu11==11.7.99->torch) (65.5.0)\n",
      "Requirement already satisfied: gym==0.21 in /home/ga/anaconda3/lib/python3.8/site-packages (0.21.0)\n",
      "Requirement already satisfied: numpy>=1.18.0 in /home/ga/anaconda3/lib/python3.8/site-packages (from gym==0.21) (1.21.3)\n",
      "Requirement already satisfied: cloudpickle>=1.2.0 in /home/ga/anaconda3/lib/python3.8/site-packages (from gym==0.21) (1.6.0)\n",
      "Requirement already satisfied: stable-baselines3==1.6.2 in /home/ga/anaconda3/lib/python3.8/site-packages (1.6.2)\n",
      "Requirement already satisfied: cloudpickle in /home/ga/anaconda3/lib/python3.8/site-packages (from stable-baselines3==1.6.2) (1.6.0)\n",
      "Requirement already satisfied: pandas in /home/ga/anaconda3/lib/python3.8/site-packages (from stable-baselines3==1.6.2) (1.1.3)\n",
      "Requirement already satisfied: matplotlib in /home/ga/anaconda3/lib/python3.8/site-packages (from stable-baselines3==1.6.2) (3.3.2)\n",
      "Requirement already satisfied: gym==0.21 in /home/ga/anaconda3/lib/python3.8/site-packages (from stable-baselines3==1.6.2) (0.21.0)\n",
      "Requirement already satisfied: importlib-metadata~=4.13 in /home/ga/anaconda3/lib/python3.8/site-packages (from stable-baselines3==1.6.2) (4.13.0)\n",
      "Requirement already satisfied: numpy in /home/ga/anaconda3/lib/python3.8/site-packages (from stable-baselines3==1.6.2) (1.21.3)\n",
      "Requirement already satisfied: torch>=1.11 in /home/ga/anaconda3/lib/python3.8/site-packages (from stable-baselines3==1.6.2) (1.13.0)\n",
      "Requirement already satisfied: python-dateutil>=2.7.3 in /home/ga/anaconda3/lib/python3.8/site-packages (from pandas->stable-baselines3==1.6.2) (2.8.2)\n",
      "Requirement already satisfied: pytz>=2017.2 in /home/ga/anaconda3/lib/python3.8/site-packages (from pandas->stable-baselines3==1.6.2) (2020.1)\n",
      "Requirement already satisfied: kiwisolver>=1.0.1 in /home/ga/anaconda3/lib/python3.8/site-packages (from matplotlib->stable-baselines3==1.6.2) (1.3.0)\n",
      "Requirement already satisfied: pillow>=6.2.0 in /home/ga/anaconda3/lib/python3.8/site-packages (from matplotlib->stable-baselines3==1.6.2) (8.0.1)\n",
      "Requirement already satisfied: cycler>=0.10 in /home/ga/anaconda3/lib/python3.8/site-packages (from matplotlib->stable-baselines3==1.6.2) (0.10.0)\n",
      "Requirement already satisfied: pyparsing!=2.0.4,!=2.1.2,!=2.1.6,>=2.0.3 in /home/ga/anaconda3/lib/python3.8/site-packages (from matplotlib->stable-baselines3==1.6.2) (2.4.7)\n",
      "Requirement already satisfied: certifi>=2020.06.20 in /home/ga/anaconda3/lib/python3.8/site-packages (from matplotlib->stable-baselines3==1.6.2) (2020.6.20)\n",
      "Requirement already satisfied: zipp>=0.5 in /home/ga/anaconda3/lib/python3.8/site-packages (from importlib-metadata~=4.13->stable-baselines3==1.6.2) (3.4.0)\n",
      "Requirement already satisfied: nvidia-cublas-cu11==11.10.3.66 in /home/ga/anaconda3/lib/python3.8/site-packages (from torch>=1.11->stable-baselines3==1.6.2) (11.10.3.66)\n",
      "Requirement already satisfied: typing-extensions in /home/ga/anaconda3/lib/python3.8/site-packages (from torch>=1.11->stable-baselines3==1.6.2) (4.4.0)\n",
      "Requirement already satisfied: nvidia-cuda-nvrtc-cu11==11.7.99 in /home/ga/anaconda3/lib/python3.8/site-packages (from torch>=1.11->stable-baselines3==1.6.2) (11.7.99)\n",
      "Requirement already satisfied: nvidia-cuda-runtime-cu11==11.7.99 in /home/ga/anaconda3/lib/python3.8/site-packages (from torch>=1.11->stable-baselines3==1.6.2) (11.7.99)\n",
      "Requirement already satisfied: nvidia-cudnn-cu11==8.5.0.96 in /home/ga/anaconda3/lib/python3.8/site-packages (from torch>=1.11->stable-baselines3==1.6.2) (8.5.0.96)\n",
      "Requirement already satisfied: six>=1.5 in /home/ga/anaconda3/lib/python3.8/site-packages (from python-dateutil>=2.7.3->pandas->stable-baselines3==1.6.2) (1.15.0)\n",
      "Requirement already satisfied: wheel in /home/ga/anaconda3/lib/python3.8/site-packages (from nvidia-cublas-cu11==11.10.3.66->torch>=1.11->stable-baselines3==1.6.2) (0.35.1)\n",
      "Requirement already satisfied: setuptools in /home/ga/anaconda3/lib/python3.8/site-packages (from nvidia-cublas-cu11==11.10.3.66->torch>=1.11->stable-baselines3==1.6.2) (65.5.0)\n"
     ]
    }
   ],
   "source": [
    "!pip install torch\n",
    "!pip install gym==0.21\n",
    "!pip install stable-baselines3==1.6.2"
   ]
  },
  {
   "cell_type": "code",
   "execution_count": 100,
   "id": "a8da3eba",
   "metadata": {
    "collapsed": false,
    "pycharm": {
     "name": "#%%\n"
    }
   },
   "outputs": [],
   "source": [
    "import gym\n",
    "\n",
    "import numpy as np\n",
    "\n",
    "import torch\n",
    "import torch.nn as nn\n",
    "import torch.nn.functional as functional\n",
    "from collections import deque\n",
    "from collections import defaultdict\n",
    "\n",
    "import matplotlib.pyplot as plt\n",
    "import random"
   ]
  },
  {
   "cell_type": "markdown",
   "id": "dcf7996a",
   "metadata": {
    "collapsed": false,
    "pycharm": {
     "name": "#%% md\n"
    }
   },
   "source": [
    "## Acrobot\n",
    "\n",
    "Next, we instantiate the [Acrobot environment](https://www.gymlibrary.dev/environments/classic_control/acrobot/) from OpenAI Gym and gain a quick understanding of its key variables and methods. \n",
    "\n",
    "The Acrobot environment includes a simple robot with two blue links that are connected by two green joints. The joint connecting the two links is actuated, i.e., it can be controlled by the robot by applying torque to the joint. The goal is to swing the free end of the outer link to reach the target height (shown as the black horizontal line) by using robot's actuation.\n",
    "\n",
    "Follow the hyperlinks to learn more about the envionment [Acrobot environment](https://www.gymlibrary.dev/environments/classic_control/acrobot/)  and its [source code](https://github.com/openai/gym/blob/master/gym/envs/classic_control/acrobot.py).\n",
    "\n",
    "![](https://www.gymlibrary.dev/_images/acrobot.gif)"
   ]
  },
  {
   "cell_type": "code",
   "execution_count": 101,
   "id": "8d0921fc",
   "metadata": {
    "collapsed": false,
    "pycharm": {
     "name": "#%%\n"
    }
   },
   "outputs": [],
   "source": [
    "env = gym.make(\"Acrobot-v1\")"
   ]
  },
  {
   "cell_type": "markdown",
   "id": "81a32782",
   "metadata": {
    "collapsed": false,
    "pycharm": {
     "name": "#%% md\n"
    }
   },
   "source": [
    "#### States\n",
    "\n",
    "OpenAI Gym environments do not explicitly provide state but instead provide observation. In the Acrobot environment, the state and observation are identical. The state of the Acrobot is a 6-dimensional vector, which provides information about the two rotational joint angles of the robot and their angular velocities. As joint angles and velocity are continuous variables, so is the Acrobot state."
   ]
  },
  {
   "cell_type": "code",
   "execution_count": 102,
   "id": "82bd1243",
   "metadata": {
    "collapsed": false,
    "pycharm": {
     "name": "#%%\n"
    }
   },
   "outputs": [
    {
     "name": "stdout",
     "output_type": "stream",
     "text": [
      "Number of state features: 6\n"
     ]
    }
   ],
   "source": [
    "print(f\"Number of state features: {env.observation_space.shape[0]}\")"
   ]
  },
  {
   "cell_type": "markdown",
   "id": "aa2aaacf",
   "metadata": {
    "collapsed": false,
    "pycharm": {
     "name": "#%% md\n"
    }
   },
   "source": [
    "#### Actions\n",
    "\n",
    "In contrast to the continuous state, the action space for this robot is discrete. The robot has only three choices:\n",
    "- apply torque of unit 1 in clockwise direction,\n",
    "- apply torque of until 1 in counter-clockwise direction, or\n",
    "- apply no torque."
   ]
  },
  {
   "cell_type": "code",
   "execution_count": 103,
   "id": "f9056f59",
   "metadata": {
    "collapsed": false,
    "pycharm": {
     "name": "#%%\n"
    }
   },
   "outputs": [
    {
     "name": "stdout",
     "output_type": "stream",
     "text": [
      "Number of actions: 3\n"
     ]
    }
   ],
   "source": [
    "print(f\"Number of actions: {env.action_space.n}\")"
   ]
  },
  {
   "cell_type": "markdown",
   "id": "f394c327",
   "metadata": {
    "collapsed": false,
    "pycharm": {
     "name": "#%% md\n"
    }
   },
   "source": [
    "#### Transition and Reward Function\n",
    "\n",
    "The transition and rewards functions for the environment are not explicitly represented as matrices or tensors. Instead the gym API provides access to the `step` method, which takes in as input an `action` and provides (among other things) an `observation` and `reward`. Also notice the `reset` method, which resets the MDP environment.\n",
    "\n",
    "The following snippet describes the use of `step` and `reset` methods."
   ]
  },
  {
   "cell_type": "code",
   "execution_count": 104,
   "id": "8571f351",
   "metadata": {
    "collapsed": false,
    "pycharm": {
     "name": "#%%\n"
    }
   },
   "outputs": [
    {
     "name": "stdout",
     "output_type": "stream",
     "text": [
      "State: [ 0.99578995  0.09166451  0.9981477   0.06083632  0.06088297 -0.01201279]\n",
      "Action: 0\n",
      "Next state: [ 0.99431396  0.10648803  0.99963915  0.02686246  0.08397561 -0.31978488]\n",
      "Reward: -1.0\n"
     ]
    }
   ],
   "source": [
    "# Reset the environment\n",
    "state = env.reset() \n",
    "print(f\"State: {state}\")\n",
    "\n",
    "# Select a random action to play\n",
    "action = env.action_space.sample()\n",
    "print(f\"Action: {action}\")\n",
    "\n",
    "# Send this action to the environment to receive the next state and reward\n",
    "next_state, reward, done, _ = env.step(action)\n",
    "print(f\"Next state: {next_state}\")\n",
    "print(f\"Reward: {reward}\")"
   ]
  },
  {
   "cell_type": "markdown",
   "id": "7effcb2d",
   "metadata": {
    "collapsed": false,
    "pycharm": {
     "name": "#%% md\n"
    }
   },
   "source": [
    "## Problem 1.1\n",
    "\n",
    "Next, we will implement the general recipe of Q Learning algorithm to compute the optimal policy in the Acrobot environment. "
   ]
  },
  {
   "cell_type": "markdown",
   "id": "8994db33",
   "metadata": {
    "collapsed": false,
    "pycharm": {
     "name": "#%% md\n"
    }
   },
   "source": [
    "#### Q Network\n",
    "\n",
    "Since, the robot's state space is continuous, we cannot represent the Q value function exactly. Instead, we will approximate the Q value as a neural network. Let us first define this neural network. \n",
    "\n",
    "Many choices exist for the neural network architecture. We will utilize a multi-layer perceptron, with\n",
    "- input as the state of the Acrobot, and\n",
    "- output as a vector of size 3 denoting Q values of each action for the input state."
   ]
  },
  {
   "cell_type": "code",
   "execution_count": 106,
   "id": "22b07eff",
   "metadata": {
    "collapsed": false,
    "pycharm": {
     "name": "#%%\n"
    }
   },
   "outputs": [],
   "source": [
    "class QNetwork(nn.Module):\n",
    "    \"\"\"Approximates the Q Function as a Multi-Layer Perceptron.\"\"\"\n",
    "\n",
    "    def __init__(self, env, nodes_per_mlp_layer=[128, 64]):\n",
    "        \"\"\"Initialize the Q Function apprixmated as a Multi-Layer Perceptron.\n",
    "        \n",
    "        Args:\n",
    "            env: An OpenAI Gym environment.\n",
    "            nodes_per_mlp_layer: An array of integers. The length of array equals the number\n",
    "                of hidden layers of the Multi-Layer Perceptron. Each element in the array\n",
    "                equals the number of nodes in the corresponding layer.\n",
    "        \"\"\"\n",
    "        super().__init__()\n",
    "        \n",
    "        ######## PUT YOUR CODE HERE ########\n",
    "        # input layer\n",
    "        self.input_layer = nn.Linear(env.observation_space.shape[0], nodes_per_mlp_layer[0])\n",
    "        \n",
    "        # hidden layers\n",
    "        self.hidden_layers = nn.ModuleList()   \n",
    "        for k in range(len(nodes_per_mlp_layer) - 1):\n",
    "            self.hidden_layers.append(nn.Linear(nodes_per_mlp_layer[k], nodes_per_mlp_layer[k+1]))\n",
    "\n",
    "        # output layer\n",
    "        self.output_layer = nn.Linear(nodes_per_mlp_layer[k+1],env.action_space.n)\n",
    "        ######## PUT YOUR CODE HERE ########\n",
    "\n",
    "    def forward(self, x):\n",
    "        \"\"\"Implements the forward pass of the Q Network.\n",
    "        \n",
    "        Args:\n",
    "            x: Input to the Q Network.\n",
    "        \n",
    "        Returns:\n",
    "            Output of the Q Network.\n",
    "        \"\"\"\n",
    "        ######## PUT YOUR CODE HERE ########\n",
    "        device = torch.device('cuda:0' if torch.cuda.is_available() else 'cpu')\n",
    "        x = x.to(device)\n",
    "        x = self.input_layer(x)\n",
    "        x = nn.functional.relu(x)\n",
    "        for layer in self.hidden_layers:\n",
    "            x = layer(x)\n",
    "            x = nn.functional.relu(x)\n",
    "        return self.output_layer(x)\n",
    "        ######## PUT YOUR CODE HERE ########"
   ]
  },
  {
   "cell_type": "markdown",
   "id": "875991cf",
   "metadata": {
    "collapsed": false,
    "pycharm": {
     "name": "#%% md\n"
    }
   },
   "source": [
    "#### Replay Buffer\n",
    "\n",
    "In addition to the Q Network, our algorithm requires a data structure to store the agent's experiences: Replay Buffer. Let us now define this data structure.\n",
    "\n",
    "Similar to Q Network, many data structure choices exist for the Replay Buffer. We will use a simple buffer to store agent's experiences."
   ]
  },
  {
   "cell_type": "code",
   "execution_count": 233,
   "id": "2e3926b4",
   "metadata": {
    "collapsed": false,
    "pycharm": {
     "name": "#%%\n"
    }
   },
   "outputs": [],
   "source": [
    "class ReplayBuffer:\n",
    "    \"\"\"A buffer to store agent's experiences.\"\"\"\n",
    "    \n",
    "    def __init__(self, env, buffer_size):\n",
    "        \"\"\"Initialize a ring buffer to store agent's experiences.\n",
    "        \n",
    "        Args:\n",
    "            env: An OpenAI Gym environment.\n",
    "            buffer_size: An integer. The total size of the buffer.\n",
    "        \"\"\"\n",
    "        observation_n = env.observation_space.shape[0]\n",
    "        self.buffer_size = buffer_size\n",
    "        \n",
    "        self.observations = np.zeros((self.buffer_size, observation_n), dtype=np.float32)\n",
    "        self.next_observations = np.zeros((self.buffer_size, observation_n), dtype=np.float32)\n",
    "        self.actions = np.zeros((self.buffer_size,), dtype=np.int64)\n",
    "        self.rewards = np.zeros((self.buffer_size,), dtype=np.float32)\n",
    "        self.dones = np.zeros((self.buffer_size,), dtype=np.float32)\n",
    "\n",
    "        ######## PUT YOUR CODE HERE ########\n",
    "        self.memory = deque(maxlen=buffer_size)\n",
    "        ######## PUT YOUR CODE HERE ########\n",
    "    \n",
    "    def add(self, state, action, next_state, reward, done):\n",
    "        \"\"\"Add an experience to the buffer.\n",
    "        \n",
    "        Args:\n",
    "            state: the current environment state\n",
    "            action: the action executed in the state\n",
    "            next_state: the state after executing the action\n",
    "            reward: the reward received after executing the action\n",
    "            done: Boolean denoting whether the task is completed.        \n",
    "        \"\"\"\n",
    "        ######## PUT YOUR CODE HERE ########\n",
    "        self.memory.append((state, action, next_state, reward, done))\n",
    "        ######## PUT YOUR CODE HERE ########\n",
    "\n",
    "    def sample(self, batch_size):\n",
    "        \"\"\"Sample a mini-batch of experiences from the replay buffer.\n",
    "        \n",
    "        Args:\n",
    "            batch_size: An integer. The size of the mini-batch.\n",
    "        \n",
    "        Returns:\n",
    "            Randomly sampled experiences from the replay buffer.\n",
    "        \"\"\"\n",
    "        indices = np.random.randint(self.buffer_size, size=batch_size)\n",
    "        observations = torch.from_numpy(self.observations[indices])\n",
    "        next_observations = torch.from_numpy(self.next_observations[indices])\n",
    "        actions = torch.from_numpy(self.actions[indices])\n",
    "        rewards = torch.from_numpy(self.rewards[indices])\n",
    "        dones = np.array(self.dones[indices], dtype=np.uint8),    \n",
    "\n",
    "        return observations, actions, next_observations, rewards, dones"
   ]
  },
  {
   "cell_type": "markdown",
   "id": "30f7dd98",
   "metadata": {},
   "source": [
    "### Understanding sample"
   ]
  },
  {
   "cell_type": "code",
   "execution_count": 169,
   "id": "7358809e",
   "metadata": {},
   "outputs": [],
   "source": [
    "observation_n = env.observation_space.shape[0]\n",
    "buffer_size = 200000\n",
    "        \n",
    "observations = np.zeros((buffer_size, observation_n), dtype=np.float32)\n",
    "next_observations = np.zeros((buffer_size, observation_n), dtype=np.float32)\n",
    "actions = np.zeros((buffer_size,), dtype=np.int64)\n",
    "rewards = np.zeros((buffer_size,), dtype=np.float32)\n",
    "dones = np.zeros((buffer_size,), dtype=np.float32)"
   ]
  },
  {
   "cell_type": "code",
   "execution_count": 152,
   "id": "76b39e17",
   "metadata": {},
   "outputs": [
    {
     "data": {
      "text/plain": [
       "deque([], maxlen=200000)"
      ]
     },
     "execution_count": 152,
     "metadata": {},
     "output_type": "execute_result"
    }
   ],
   "source": [
    "memory = deque(maxlen=buffer_size)\n",
    "memory"
   ]
  },
  {
   "cell_type": "code",
   "execution_count": 153,
   "id": "f05e5c28",
   "metadata": {},
   "outputs": [],
   "source": [
    "def add(self, state, action, next_state, reward, done):\n",
    "    \"\"\"Add an experience to the buffer.\n",
    "    \n",
    "    Args:\n",
    "        state: the current environment state\n",
    "        action: the action executed in the state\n",
    "        next_state: the state after executing the action\n",
    "        reward: the reward received after executing the action\n",
    "        done: Boolean denoting whether the task is completed.        \n",
    "    \"\"\"\n",
    "    ######## PUT YOUR CODE HERE ########\n",
    "    memory.append((state, action, next_state, reward))\n",
    "    ######## PUT YOUR CODE HERE ########\n"
   ]
  },
  {
   "cell_type": "code",
   "execution_count": 154,
   "id": "3ddfbee1",
   "metadata": {
    "collapsed": false,
    "pycharm": {
     "name": "#%%\n"
    }
   },
   "outputs": [
    {
     "data": {
      "text/plain": [
       "array([[0.00000e+00, 0.00000e+00, 0.00000e+00, 0.00000e+00, 0.00000e+00,\n",
       "        0.00000e+00],\n",
       "       [1.00000e+00, 1.00000e+00, 1.00000e+00, 1.00000e+00, 1.00000e+00,\n",
       "        1.00000e+00],\n",
       "       [2.00000e+00, 2.00000e+00, 2.00000e+00, 2.00000e+00, 2.00000e+00,\n",
       "        2.00000e+00],\n",
       "       ...,\n",
       "       [1.99997e+05, 1.99997e+05, 1.99997e+05, 1.99997e+05, 1.99997e+05,\n",
       "        1.99997e+05],\n",
       "       [1.99998e+05, 1.99998e+05, 1.99998e+05, 1.99998e+05, 1.99998e+05,\n",
       "        1.99998e+05],\n",
       "       [1.99999e+05, 1.99999e+05, 1.99999e+05, 1.99999e+05, 1.99999e+05,\n",
       "        1.99999e+05]], dtype=float32)"
      ]
     },
     "execution_count": 154,
     "metadata": {},
     "output_type": "execute_result"
    }
   ],
   "source": [
    "#fill observations\n",
    "for i in range(len(observations)):\n",
    "    observations[i]= i\n",
    "\n",
    "observations\n"
   ]
  },
  {
   "cell_type": "code",
   "execution_count": 155,
   "id": "f8fd9f4a",
   "metadata": {
    "collapsed": false,
    "pycharm": {
     "name": "#%%\n"
    }
   },
   "outputs": [
    {
     "data": {
      "text/plain": [
       "array([  458, 17807, 17239, 16505, 12659, 16448, 10739,  3394,  7987,\n",
       "         425,  1457, 13330,  7371, 10955,  3208, 19876, 13451, 14926,\n",
       "       16889,  9493,  1447,  8972,  6236, 11310,   335,  6645, 18032,\n",
       "        9780,  3607,  1646, 18951,  2202,   372,  4299, 17531,  1570,\n",
       "       13539,  2235, 12847, 18470,  2905,  6155,   186, 10379, 14356,\n",
       "        4303,  3339, 13449, 19208,  7377,  3033,  8573,   439,   125,\n",
       "       13556,  4988, 12040, 18643, 10693,  1858, 15657,  3177,  7999,\n",
       "       19586])"
      ]
     },
     "execution_count": 155,
     "metadata": {},
     "output_type": "execute_result"
    }
   ],
   "source": [
    "indices = np.random.randint(20000, size=64)\n",
    "indices\n"
   ]
  },
  {
   "cell_type": "code",
   "execution_count": 166,
   "id": "c6386df3",
   "metadata": {
    "collapsed": false,
    "pycharm": {
     "name": "#%%\n"
    }
   },
   "outputs": [],
   "source": [
    "observations = torch.from_numpy(observations[indices])\n",
    "test = observations, observations\n"
   ]
  },
  {
   "cell_type": "code",
   "execution_count": 157,
   "id": "e6682f5e",
   "metadata": {
    "collapsed": false,
    "pycharm": {
     "name": "#%%\n"
    }
   },
   "outputs": [
    {
     "data": {
      "text/plain": [
       "(tensor([[  458.,   458.,   458.,   458.,   458.,   458.],\n",
       "         [17807., 17807., 17807., 17807., 17807., 17807.],\n",
       "         [17239., 17239., 17239., 17239., 17239., 17239.],\n",
       "         [16505., 16505., 16505., 16505., 16505., 16505.],\n",
       "         [12659., 12659., 12659., 12659., 12659., 12659.],\n",
       "         [16448., 16448., 16448., 16448., 16448., 16448.],\n",
       "         [10739., 10739., 10739., 10739., 10739., 10739.],\n",
       "         [ 3394.,  3394.,  3394.,  3394.,  3394.,  3394.],\n",
       "         [ 7987.,  7987.,  7987.,  7987.,  7987.,  7987.],\n",
       "         [  425.,   425.,   425.,   425.,   425.,   425.],\n",
       "         [ 1457.,  1457.,  1457.,  1457.,  1457.,  1457.],\n",
       "         [13330., 13330., 13330., 13330., 13330., 13330.],\n",
       "         [ 7371.,  7371.,  7371.,  7371.,  7371.,  7371.],\n",
       "         [10955., 10955., 10955., 10955., 10955., 10955.],\n",
       "         [ 3208.,  3208.,  3208.,  3208.,  3208.,  3208.],\n",
       "         [19876., 19876., 19876., 19876., 19876., 19876.],\n",
       "         [13451., 13451., 13451., 13451., 13451., 13451.],\n",
       "         [14926., 14926., 14926., 14926., 14926., 14926.],\n",
       "         [16889., 16889., 16889., 16889., 16889., 16889.],\n",
       "         [ 9493.,  9493.,  9493.,  9493.,  9493.,  9493.],\n",
       "         [ 1447.,  1447.,  1447.,  1447.,  1447.,  1447.],\n",
       "         [ 8972.,  8972.,  8972.,  8972.,  8972.,  8972.],\n",
       "         [ 6236.,  6236.,  6236.,  6236.,  6236.,  6236.],\n",
       "         [11310., 11310., 11310., 11310., 11310., 11310.],\n",
       "         [  335.,   335.,   335.,   335.,   335.,   335.],\n",
       "         [ 6645.,  6645.,  6645.,  6645.,  6645.,  6645.],\n",
       "         [18032., 18032., 18032., 18032., 18032., 18032.],\n",
       "         [ 9780.,  9780.,  9780.,  9780.,  9780.,  9780.],\n",
       "         [ 3607.,  3607.,  3607.,  3607.,  3607.,  3607.],\n",
       "         [ 1646.,  1646.,  1646.,  1646.,  1646.,  1646.],\n",
       "         [18951., 18951., 18951., 18951., 18951., 18951.],\n",
       "         [ 2202.,  2202.,  2202.,  2202.,  2202.,  2202.],\n",
       "         [  372.,   372.,   372.,   372.,   372.,   372.],\n",
       "         [ 4299.,  4299.,  4299.,  4299.,  4299.,  4299.],\n",
       "         [17531., 17531., 17531., 17531., 17531., 17531.],\n",
       "         [ 1570.,  1570.,  1570.,  1570.,  1570.,  1570.],\n",
       "         [13539., 13539., 13539., 13539., 13539., 13539.],\n",
       "         [ 2235.,  2235.,  2235.,  2235.,  2235.,  2235.],\n",
       "         [12847., 12847., 12847., 12847., 12847., 12847.],\n",
       "         [18470., 18470., 18470., 18470., 18470., 18470.],\n",
       "         [ 2905.,  2905.,  2905.,  2905.,  2905.,  2905.],\n",
       "         [ 6155.,  6155.,  6155.,  6155.,  6155.,  6155.],\n",
       "         [  186.,   186.,   186.,   186.,   186.,   186.],\n",
       "         [10379., 10379., 10379., 10379., 10379., 10379.],\n",
       "         [14356., 14356., 14356., 14356., 14356., 14356.],\n",
       "         [ 4303.,  4303.,  4303.,  4303.,  4303.,  4303.],\n",
       "         [ 3339.,  3339.,  3339.,  3339.,  3339.,  3339.],\n",
       "         [13449., 13449., 13449., 13449., 13449., 13449.],\n",
       "         [19208., 19208., 19208., 19208., 19208., 19208.],\n",
       "         [ 7377.,  7377.,  7377.,  7377.,  7377.,  7377.],\n",
       "         [ 3033.,  3033.,  3033.,  3033.,  3033.,  3033.],\n",
       "         [ 8573.,  8573.,  8573.,  8573.,  8573.,  8573.],\n",
       "         [  439.,   439.,   439.,   439.,   439.,   439.],\n",
       "         [  125.,   125.,   125.,   125.,   125.,   125.],\n",
       "         [13556., 13556., 13556., 13556., 13556., 13556.],\n",
       "         [ 4988.,  4988.,  4988.,  4988.,  4988.,  4988.],\n",
       "         [12040., 12040., 12040., 12040., 12040., 12040.],\n",
       "         [18643., 18643., 18643., 18643., 18643., 18643.],\n",
       "         [10693., 10693., 10693., 10693., 10693., 10693.],\n",
       "         [ 1858.,  1858.,  1858.,  1858.,  1858.,  1858.],\n",
       "         [15657., 15657., 15657., 15657., 15657., 15657.],\n",
       "         [ 3177.,  3177.,  3177.,  3177.,  3177.,  3177.],\n",
       "         [ 7999.,  7999.,  7999.,  7999.,  7999.,  7999.],\n",
       "         [19586., 19586., 19586., 19586., 19586., 19586.]]),\n",
       " tensor([[  458.,   458.,   458.,   458.,   458.,   458.],\n",
       "         [17807., 17807., 17807., 17807., 17807., 17807.],\n",
       "         [17239., 17239., 17239., 17239., 17239., 17239.],\n",
       "         [16505., 16505., 16505., 16505., 16505., 16505.],\n",
       "         [12659., 12659., 12659., 12659., 12659., 12659.],\n",
       "         [16448., 16448., 16448., 16448., 16448., 16448.],\n",
       "         [10739., 10739., 10739., 10739., 10739., 10739.],\n",
       "         [ 3394.,  3394.,  3394.,  3394.,  3394.,  3394.],\n",
       "         [ 7987.,  7987.,  7987.,  7987.,  7987.,  7987.],\n",
       "         [  425.,   425.,   425.,   425.,   425.,   425.],\n",
       "         [ 1457.,  1457.,  1457.,  1457.,  1457.,  1457.],\n",
       "         [13330., 13330., 13330., 13330., 13330., 13330.],\n",
       "         [ 7371.,  7371.,  7371.,  7371.,  7371.,  7371.],\n",
       "         [10955., 10955., 10955., 10955., 10955., 10955.],\n",
       "         [ 3208.,  3208.,  3208.,  3208.,  3208.,  3208.],\n",
       "         [19876., 19876., 19876., 19876., 19876., 19876.],\n",
       "         [13451., 13451., 13451., 13451., 13451., 13451.],\n",
       "         [14926., 14926., 14926., 14926., 14926., 14926.],\n",
       "         [16889., 16889., 16889., 16889., 16889., 16889.],\n",
       "         [ 9493.,  9493.,  9493.,  9493.,  9493.,  9493.],\n",
       "         [ 1447.,  1447.,  1447.,  1447.,  1447.,  1447.],\n",
       "         [ 8972.,  8972.,  8972.,  8972.,  8972.,  8972.],\n",
       "         [ 6236.,  6236.,  6236.,  6236.,  6236.,  6236.],\n",
       "         [11310., 11310., 11310., 11310., 11310., 11310.],\n",
       "         [  335.,   335.,   335.,   335.,   335.,   335.],\n",
       "         [ 6645.,  6645.,  6645.,  6645.,  6645.,  6645.],\n",
       "         [18032., 18032., 18032., 18032., 18032., 18032.],\n",
       "         [ 9780.,  9780.,  9780.,  9780.,  9780.,  9780.],\n",
       "         [ 3607.,  3607.,  3607.,  3607.,  3607.,  3607.],\n",
       "         [ 1646.,  1646.,  1646.,  1646.,  1646.,  1646.],\n",
       "         [18951., 18951., 18951., 18951., 18951., 18951.],\n",
       "         [ 2202.,  2202.,  2202.,  2202.,  2202.,  2202.],\n",
       "         [  372.,   372.,   372.,   372.,   372.,   372.],\n",
       "         [ 4299.,  4299.,  4299.,  4299.,  4299.,  4299.],\n",
       "         [17531., 17531., 17531., 17531., 17531., 17531.],\n",
       "         [ 1570.,  1570.,  1570.,  1570.,  1570.,  1570.],\n",
       "         [13539., 13539., 13539., 13539., 13539., 13539.],\n",
       "         [ 2235.,  2235.,  2235.,  2235.,  2235.,  2235.],\n",
       "         [12847., 12847., 12847., 12847., 12847., 12847.],\n",
       "         [18470., 18470., 18470., 18470., 18470., 18470.],\n",
       "         [ 2905.,  2905.,  2905.,  2905.,  2905.,  2905.],\n",
       "         [ 6155.,  6155.,  6155.,  6155.,  6155.,  6155.],\n",
       "         [  186.,   186.,   186.,   186.,   186.,   186.],\n",
       "         [10379., 10379., 10379., 10379., 10379., 10379.],\n",
       "         [14356., 14356., 14356., 14356., 14356., 14356.],\n",
       "         [ 4303.,  4303.,  4303.,  4303.,  4303.,  4303.],\n",
       "         [ 3339.,  3339.,  3339.,  3339.,  3339.,  3339.],\n",
       "         [13449., 13449., 13449., 13449., 13449., 13449.],\n",
       "         [19208., 19208., 19208., 19208., 19208., 19208.],\n",
       "         [ 7377.,  7377.,  7377.,  7377.,  7377.,  7377.],\n",
       "         [ 3033.,  3033.,  3033.,  3033.,  3033.,  3033.],\n",
       "         [ 8573.,  8573.,  8573.,  8573.,  8573.,  8573.],\n",
       "         [  439.,   439.,   439.,   439.,   439.,   439.],\n",
       "         [  125.,   125.,   125.,   125.,   125.,   125.],\n",
       "         [13556., 13556., 13556., 13556., 13556., 13556.],\n",
       "         [ 4988.,  4988.,  4988.,  4988.,  4988.,  4988.],\n",
       "         [12040., 12040., 12040., 12040., 12040., 12040.],\n",
       "         [18643., 18643., 18643., 18643., 18643., 18643.],\n",
       "         [10693., 10693., 10693., 10693., 10693., 10693.],\n",
       "         [ 1858.,  1858.,  1858.,  1858.,  1858.,  1858.],\n",
       "         [15657., 15657., 15657., 15657., 15657., 15657.],\n",
       "         [ 3177.,  3177.,  3177.,  3177.,  3177.,  3177.],\n",
       "         [ 7999.,  7999.,  7999.,  7999.,  7999.,  7999.],\n",
       "         [19586., 19586., 19586., 19586., 19586., 19586.]]))"
      ]
     },
     "execution_count": 157,
     "metadata": {},
     "output_type": "execute_result"
    }
   ],
   "source": [
    "test"
   ]
  },
  {
   "cell_type": "code",
   "execution_count": 210,
   "id": "fa51e592",
   "metadata": {},
   "outputs": [],
   "source": [
    "def sample(batch_size,observations, actions, next_observations,rewards, dones):\n",
    "    \"\"\"Sample a mini-batch of experiences from the replay buffer.\n",
    "    \n",
    "    Args:\n",
    "        batch_size: An integer. The size of the mini-batch.\n",
    "    \n",
    "    Returns:\n",
    "        Randomly sampled experiences from the replay buffer.\n",
    "    \"\"\"\n",
    "    indices = np.random.randint(200000, size=batch_size)\n",
    "    observations = torch.from_numpy(observations[indices])\n",
    "    next_observations = torch.from_numpy(next_observations[indices])\n",
    "    actions = torch.from_numpy(actions[indices])\n",
    "    rewards = torch.from_numpy(rewards[indices])\n",
    "    dones = np.array(dones, dtype=np.uint8)\n",
    "    return observations, actions, next_observations, rewards, dones"
   ]
  },
  {
   "cell_type": "code",
   "execution_count": 201,
   "id": "620aae88",
   "metadata": {},
   "outputs": [
    {
     "data": {
      "text/plain": [
       "(tensor([[0., 0., 0., 0., 0., 0.],\n",
       "         [0., 0., 0., 0., 0., 0.],\n",
       "         [0., 0., 0., 0., 0., 0.],\n",
       "         [0., 0., 0., 0., 0., 0.],\n",
       "         [0., 0., 0., 0., 0., 0.],\n",
       "         [0., 0., 0., 0., 0., 0.],\n",
       "         [0., 0., 0., 0., 0., 0.],\n",
       "         [0., 0., 0., 0., 0., 0.],\n",
       "         [0., 0., 0., 0., 0., 0.],\n",
       "         [0., 0., 0., 0., 0., 0.],\n",
       "         [0., 0., 0., 0., 0., 0.],\n",
       "         [0., 0., 0., 0., 0., 0.],\n",
       "         [0., 0., 0., 0., 0., 0.],\n",
       "         [0., 0., 0., 0., 0., 0.],\n",
       "         [0., 0., 0., 0., 0., 0.],\n",
       "         [0., 0., 0., 0., 0., 0.],\n",
       "         [0., 0., 0., 0., 0., 0.],\n",
       "         [0., 0., 0., 0., 0., 0.],\n",
       "         [0., 0., 0., 0., 0., 0.],\n",
       "         [0., 0., 0., 0., 0., 0.],\n",
       "         [0., 0., 0., 0., 0., 0.],\n",
       "         [0., 0., 0., 0., 0., 0.],\n",
       "         [0., 0., 0., 0., 0., 0.],\n",
       "         [0., 0., 0., 0., 0., 0.],\n",
       "         [0., 0., 0., 0., 0., 0.],\n",
       "         [0., 0., 0., 0., 0., 0.],\n",
       "         [0., 0., 0., 0., 0., 0.],\n",
       "         [0., 0., 0., 0., 0., 0.],\n",
       "         [0., 0., 0., 0., 0., 0.],\n",
       "         [0., 0., 0., 0., 0., 0.],\n",
       "         [0., 0., 0., 0., 0., 0.],\n",
       "         [0., 0., 0., 0., 0., 0.],\n",
       "         [0., 0., 0., 0., 0., 0.],\n",
       "         [0., 0., 0., 0., 0., 0.],\n",
       "         [0., 0., 0., 0., 0., 0.],\n",
       "         [0., 0., 0., 0., 0., 0.],\n",
       "         [0., 0., 0., 0., 0., 0.],\n",
       "         [0., 0., 0., 0., 0., 0.],\n",
       "         [0., 0., 0., 0., 0., 0.],\n",
       "         [0., 0., 0., 0., 0., 0.],\n",
       "         [0., 0., 0., 0., 0., 0.],\n",
       "         [0., 0., 0., 0., 0., 0.],\n",
       "         [0., 0., 0., 0., 0., 0.],\n",
       "         [0., 0., 0., 0., 0., 0.],\n",
       "         [0., 0., 0., 0., 0., 0.],\n",
       "         [0., 0., 0., 0., 0., 0.],\n",
       "         [0., 0., 0., 0., 0., 0.],\n",
       "         [0., 0., 0., 0., 0., 0.],\n",
       "         [0., 0., 0., 0., 0., 0.],\n",
       "         [0., 0., 0., 0., 0., 0.],\n",
       "         [0., 0., 0., 0., 0., 0.],\n",
       "         [0., 0., 0., 0., 0., 0.],\n",
       "         [0., 0., 0., 0., 0., 0.],\n",
       "         [0., 0., 0., 0., 0., 0.],\n",
       "         [0., 0., 0., 0., 0., 0.],\n",
       "         [0., 0., 0., 0., 0., 0.],\n",
       "         [0., 0., 0., 0., 0., 0.],\n",
       "         [0., 0., 0., 0., 0., 0.],\n",
       "         [0., 0., 0., 0., 0., 0.],\n",
       "         [0., 0., 0., 0., 0., 0.],\n",
       "         [0., 0., 0., 0., 0., 0.],\n",
       "         [0., 0., 0., 0., 0., 0.],\n",
       "         [0., 0., 0., 0., 0., 0.],\n",
       "         [0., 0., 0., 0., 0., 0.]]),\n",
       " tensor([0, 0, 0, 0, 0, 0, 0, 0, 0, 0, 0, 0, 0, 0, 0, 0, 0, 0, 0, 0, 0, 0, 0, 0,\n",
       "         0, 0, 0, 0, 0, 0, 0, 0, 0, 0, 0, 0, 0, 0, 0, 0, 0, 0, 0, 0, 0, 0, 0, 0,\n",
       "         0, 0, 0, 0, 0, 0, 0, 0, 0, 0, 0, 0, 0, 0, 0, 0]),\n",
       " tensor([[0., 0., 0., 0., 0., 0.],\n",
       "         [0., 0., 0., 0., 0., 0.],\n",
       "         [0., 0., 0., 0., 0., 0.],\n",
       "         [0., 0., 0., 0., 0., 0.],\n",
       "         [0., 0., 0., 0., 0., 0.],\n",
       "         [0., 0., 0., 0., 0., 0.],\n",
       "         [0., 0., 0., 0., 0., 0.],\n",
       "         [0., 0., 0., 0., 0., 0.],\n",
       "         [0., 0., 0., 0., 0., 0.],\n",
       "         [0., 0., 0., 0., 0., 0.],\n",
       "         [0., 0., 0., 0., 0., 0.],\n",
       "         [0., 0., 0., 0., 0., 0.],\n",
       "         [0., 0., 0., 0., 0., 0.],\n",
       "         [0., 0., 0., 0., 0., 0.],\n",
       "         [0., 0., 0., 0., 0., 0.],\n",
       "         [0., 0., 0., 0., 0., 0.],\n",
       "         [0., 0., 0., 0., 0., 0.],\n",
       "         [0., 0., 0., 0., 0., 0.],\n",
       "         [0., 0., 0., 0., 0., 0.],\n",
       "         [0., 0., 0., 0., 0., 0.],\n",
       "         [0., 0., 0., 0., 0., 0.],\n",
       "         [0., 0., 0., 0., 0., 0.],\n",
       "         [0., 0., 0., 0., 0., 0.],\n",
       "         [0., 0., 0., 0., 0., 0.],\n",
       "         [0., 0., 0., 0., 0., 0.],\n",
       "         [0., 0., 0., 0., 0., 0.],\n",
       "         [0., 0., 0., 0., 0., 0.],\n",
       "         [0., 0., 0., 0., 0., 0.],\n",
       "         [0., 0., 0., 0., 0., 0.],\n",
       "         [0., 0., 0., 0., 0., 0.],\n",
       "         [0., 0., 0., 0., 0., 0.],\n",
       "         [0., 0., 0., 0., 0., 0.],\n",
       "         [0., 0., 0., 0., 0., 0.],\n",
       "         [0., 0., 0., 0., 0., 0.],\n",
       "         [0., 0., 0., 0., 0., 0.],\n",
       "         [0., 0., 0., 0., 0., 0.],\n",
       "         [0., 0., 0., 0., 0., 0.],\n",
       "         [0., 0., 0., 0., 0., 0.],\n",
       "         [0., 0., 0., 0., 0., 0.],\n",
       "         [0., 0., 0., 0., 0., 0.],\n",
       "         [0., 0., 0., 0., 0., 0.],\n",
       "         [0., 0., 0., 0., 0., 0.],\n",
       "         [0., 0., 0., 0., 0., 0.],\n",
       "         [0., 0., 0., 0., 0., 0.],\n",
       "         [0., 0., 0., 0., 0., 0.],\n",
       "         [0., 0., 0., 0., 0., 0.],\n",
       "         [0., 0., 0., 0., 0., 0.],\n",
       "         [0., 0., 0., 0., 0., 0.],\n",
       "         [0., 0., 0., 0., 0., 0.],\n",
       "         [0., 0., 0., 0., 0., 0.],\n",
       "         [0., 0., 0., 0., 0., 0.],\n",
       "         [0., 0., 0., 0., 0., 0.],\n",
       "         [0., 0., 0., 0., 0., 0.],\n",
       "         [0., 0., 0., 0., 0., 0.],\n",
       "         [0., 0., 0., 0., 0., 0.],\n",
       "         [0., 0., 0., 0., 0., 0.],\n",
       "         [0., 0., 0., 0., 0., 0.],\n",
       "         [0., 0., 0., 0., 0., 0.],\n",
       "         [0., 0., 0., 0., 0., 0.],\n",
       "         [0., 0., 0., 0., 0., 0.],\n",
       "         [0., 0., 0., 0., 0., 0.],\n",
       "         [0., 0., 0., 0., 0., 0.],\n",
       "         [0., 0., 0., 0., 0., 0.],\n",
       "         [0., 0., 0., 0., 0., 0.]]),\n",
       " tensor([0., 0., 0., 0., 0., 0., 0., 0., 0., 0., 0., 0., 0., 0., 0., 0., 0., 0., 0., 0., 0., 0., 0., 0.,\n",
       "         0., 0., 0., 0., 0., 0., 0., 0., 0., 0., 0., 0., 0., 0., 0., 0., 0., 0., 0., 0., 0., 0., 0., 0.,\n",
       "         0., 0., 0., 0., 0., 0., 0., 0., 0., 0., 0., 0., 0., 0., 0., 0.]),\n",
       " tensor([0, 0, 0, 0, 0, 0, 0, 0, 0, 0, 0, 0, 0, 0, 0, 0, 0, 0, 0, 0, 0, 0, 0, 0,\n",
       "         0, 0, 0, 0, 0, 0, 0, 0, 0, 0, 0, 0, 0, 0, 0, 0, 0, 0, 0, 0, 0, 0, 0, 0,\n",
       "         0, 0, 0, 0, 0, 0, 0, 0, 0, 0, 0, 0, 0, 0, 0, 0], dtype=torch.uint8))"
      ]
     },
     "execution_count": 201,
     "metadata": {},
     "output_type": "execute_result"
    }
   ],
   "source": [
    "sample=sample(64, observations, actions, next_observations,rewards,  dones)\n",
    "sample"
   ]
  },
  {
   "cell_type": "code",
   "execution_count": 177,
   "id": "7bc6091b",
   "metadata": {},
   "outputs": [
    {
     "data": {
      "text/plain": [
       "tensor([[0., 0., 0., 0., 0., 0.],\n",
       "        [0., 0., 0., 0., 0., 0.],\n",
       "        [0., 0., 0., 0., 0., 0.],\n",
       "        [0., 0., 0., 0., 0., 0.],\n",
       "        [0., 0., 0., 0., 0., 0.],\n",
       "        [0., 0., 0., 0., 0., 0.],\n",
       "        [0., 0., 0., 0., 0., 0.],\n",
       "        [0., 0., 0., 0., 0., 0.],\n",
       "        [0., 0., 0., 0., 0., 0.],\n",
       "        [0., 0., 0., 0., 0., 0.],\n",
       "        [0., 0., 0., 0., 0., 0.],\n",
       "        [0., 0., 0., 0., 0., 0.],\n",
       "        [0., 0., 0., 0., 0., 0.],\n",
       "        [0., 0., 0., 0., 0., 0.],\n",
       "        [0., 0., 0., 0., 0., 0.],\n",
       "        [0., 0., 0., 0., 0., 0.],\n",
       "        [0., 0., 0., 0., 0., 0.],\n",
       "        [0., 0., 0., 0., 0., 0.],\n",
       "        [0., 0., 0., 0., 0., 0.],\n",
       "        [0., 0., 0., 0., 0., 0.],\n",
       "        [0., 0., 0., 0., 0., 0.],\n",
       "        [0., 0., 0., 0., 0., 0.],\n",
       "        [0., 0., 0., 0., 0., 0.],\n",
       "        [0., 0., 0., 0., 0., 0.],\n",
       "        [0., 0., 0., 0., 0., 0.],\n",
       "        [0., 0., 0., 0., 0., 0.],\n",
       "        [0., 0., 0., 0., 0., 0.],\n",
       "        [0., 0., 0., 0., 0., 0.],\n",
       "        [0., 0., 0., 0., 0., 0.],\n",
       "        [0., 0., 0., 0., 0., 0.],\n",
       "        [0., 0., 0., 0., 0., 0.],\n",
       "        [0., 0., 0., 0., 0., 0.],\n",
       "        [0., 0., 0., 0., 0., 0.],\n",
       "        [0., 0., 0., 0., 0., 0.],\n",
       "        [0., 0., 0., 0., 0., 0.],\n",
       "        [0., 0., 0., 0., 0., 0.],\n",
       "        [0., 0., 0., 0., 0., 0.],\n",
       "        [0., 0., 0., 0., 0., 0.],\n",
       "        [0., 0., 0., 0., 0., 0.],\n",
       "        [0., 0., 0., 0., 0., 0.],\n",
       "        [0., 0., 0., 0., 0., 0.],\n",
       "        [0., 0., 0., 0., 0., 0.],\n",
       "        [0., 0., 0., 0., 0., 0.],\n",
       "        [0., 0., 0., 0., 0., 0.],\n",
       "        [0., 0., 0., 0., 0., 0.],\n",
       "        [0., 0., 0., 0., 0., 0.],\n",
       "        [0., 0., 0., 0., 0., 0.],\n",
       "        [0., 0., 0., 0., 0., 0.],\n",
       "        [0., 0., 0., 0., 0., 0.],\n",
       "        [0., 0., 0., 0., 0., 0.],\n",
       "        [0., 0., 0., 0., 0., 0.],\n",
       "        [0., 0., 0., 0., 0., 0.],\n",
       "        [0., 0., 0., 0., 0., 0.],\n",
       "        [0., 0., 0., 0., 0., 0.],\n",
       "        [0., 0., 0., 0., 0., 0.],\n",
       "        [0., 0., 0., 0., 0., 0.],\n",
       "        [0., 0., 0., 0., 0., 0.],\n",
       "        [0., 0., 0., 0., 0., 0.],\n",
       "        [0., 0., 0., 0., 0., 0.],\n",
       "        [0., 0., 0., 0., 0., 0.],\n",
       "        [0., 0., 0., 0., 0., 0.],\n",
       "        [0., 0., 0., 0., 0., 0.],\n",
       "        [0., 0., 0., 0., 0., 0.],\n",
       "        [0., 0., 0., 0., 0., 0.]])"
      ]
     },
     "execution_count": 177,
     "metadata": {},
     "output_type": "execute_result"
    }
   ],
   "source": [
    "sample[0]"
   ]
  },
  {
   "cell_type": "code",
   "execution_count": 176,
   "id": "0f6d18aa",
   "metadata": {},
   "outputs": [
    {
     "name": "stderr",
     "output_type": "stream",
     "text": [
      "/home/ga/anaconda3/lib/python3.8/site-packages/numpy/core/fromnumeric.py:1970: FutureWarning: The input object of type 'Tensor' is an array-like implementing one of the corresponding protocols (`__array__`, `__array_interface__` or `__array_struct__`); but not a sequence (or 0-D). In the future, this object will be coerced as if it was first converted using `np.array(obj)`. To retain the old behaviour, you have to either modify the type 'Tensor', or assign to an empty array created with `np.empty(correct_shape, dtype=object)`.\n",
      "  result = asarray(a).shape\n",
      "/home/ga/anaconda3/lib/python3.8/site-packages/numpy/core/fromnumeric.py:1970: VisibleDeprecationWarning: Creating an ndarray from ragged nested sequences (which is a list-or-tuple of lists-or-tuples-or ndarrays with different lengths or shapes) is deprecated. If you meant to do this, you must specify 'dtype=object' when creating the ndarray.\n",
      "  result = asarray(a).shape\n"
     ]
    },
    {
     "data": {
      "text/plain": [
       "(5,)"
      ]
     },
     "execution_count": 176,
     "metadata": {},
     "output_type": "execute_result"
    }
   ],
   "source": [
    "import numpy as np\n",
    "np.shape(sample)"
   ]
  },
  {
   "cell_type": "markdown",
   "id": "ac60b75f",
   "metadata": {
    "collapsed": false,
    "pycharm": {
     "name": "#%% md\n"
    }
   },
   "source": [
    "#### Exploration schedule\n",
    "\n",
    "Q Learning typically utilizes epsilon-greedy strategy for exploration. \n",
    "\n",
    "In general, it is useful to explore more initially (when the agent is far from the optimal policy) and less later on in the learning process. To implement this, we can implement a schedule for epsilon.\n",
    "\n",
    "Similar to the Q network and replay buffer architectures, several choices exist for determining the epsilon schedule. We will use a simple linear scheduler to decay epsilon as agent gains more experience. "
   ]
  },
  {
   "cell_type": "code",
   "execution_count": 112,
   "id": "dd03e0fd",
   "metadata": {
    "collapsed": false,
    "pycharm": {
     "name": "#%%\n"
    }
   },
   "outputs": [],
   "source": [
    "def linear_schedule_for_epsilon(initial_value, final_value, duration, timestep):\n",
    "    \"\"\"Implements a linear scheduler for epsilon.\n",
    "    \n",
    "    Args:\n",
    "        initial_value: (float) Initial value of epsilon.\n",
    "        final_value: (float) Final value of epsilon.\n",
    "        duration: (int) Duration over which to decay epsilon from its initial to final value.\n",
    "        timestep: (int) The current time step.\n",
    "    \n",
    "    Returns:\n",
    "        Value of epsilon at the given timestep.\n",
    "    \"\"\"\n",
    "    slope = (final_value - initial_value) / duration\n",
    "    return max(slope * timestep + initial_value, final_value)"
   ]
  },
  {
   "cell_type": "markdown",
   "id": "8c9d512b",
   "metadata": {
    "collapsed": false,
    "pycharm": {
     "name": "#%% md\n"
    }
   },
   "source": [
    "#### General recipe for Q Learning with Function Approximation\n",
    "\n",
    "Now that we have all the building blocks, we will implement the general recipe for Q learning with function approximation. \n",
    "\n",
    "We will use the AgentBase class from Assignment 2 to help us with the implementation."
   ]
  },
  {
   "cell_type": "code",
   "execution_count": 211,
   "id": "8a1ea849",
   "metadata": {
    "collapsed": false,
    "pycharm": {
     "name": "#%%\n"
    }
   },
   "outputs": [],
   "source": [
    "class AgentBase:\n",
    "    def __init__(self, env):\n",
    "        self.env = env\n",
    "        self.num_actions = self.env.action_space.n\n",
    "        self.policy = self.make_policy()\n",
    "        self.behavior_policy = self.make_behavior_policy()\n",
    "\n",
    "    def make_policy(self):\n",
    "        \"\"\"\n",
    "        Return a policy function that will be used for evaluation. The policy\n",
    "        takes observation as input and return action\n",
    "        \"\"\"\n",
    "        raise NotImplementedError\n",
    "\n",
    "    def make_behavior_policy(self):\n",
    "        \"\"\"\n",
    "        Similar to make_policy, it returns a policy function. But this one used\n",
    "        for interaction with the environment.\n",
    "        \"\"\"\n",
    "        raise NotImplementedError\n",
    "\n",
    "    def run_episode(self, episode_policy):\n",
    "        \"\"\"\n",
    "        Generate one episode with the given policy\n",
    "        \"\"\"\n",
    "        episode = []\n",
    "        done = False\n",
    "        obs = self.env.reset()\n",
    "        episode_return = 0\n",
    "        while not done:\n",
    "            action = episode_policy(obs)\n",
    "            next_obs, reward, done, _ = self.env.step(action)\n",
    "            episode.append([obs, action, reward, next_obs, done])\n",
    "            obs = next_obs\n",
    "            episode_return += reward\n",
    "\n",
    "        return (episode, episode_return)\n",
    "\n",
    "    def evaluate(self, num_eval_episodes=1000, plot_title=\"Evaluation\"):\n",
    "        \"\"\"Evaluates the agent.\"\"\"\n",
    "        list_returns = []\n",
    "        list_average_returns = []\n",
    "        average_return = 0\n",
    "        for episode_idx in range(num_eval_episodes):\n",
    "            _, episode_return = self.run_episode(self.policy)\n",
    "            average_return += (1. / (episode_idx+1)) * (episode_return - average_return)\n",
    "            list_returns.append(episode_return)\n",
    "            list_average_returns.append(average_return)\n",
    "\n",
    "        print(f\"Average reward {round(average_return, 3)}\")\n",
    "        plt.plot(list_returns,'^',label=\"Return\")\n",
    "        plt.plot(list_average_returns,'r',label=\"Average Return\")\n",
    "        plt.ylabel('Return')\n",
    "        plt.xlabel('Episode#')\n",
    "        plt.title(plot_title)\n",
    "        plt.legend()\n",
    "        plt.ylim(-501, 0.0)\n",
    "        plt.show()"
   ]
  },
  {
   "cell_type": "code",
   "execution_count": 237,
   "id": "91f4c3d6",
   "metadata": {
    "collapsed": false,
    "pycharm": {
     "name": "#%%\n"
    }
   },
   "outputs": [],
   "source": [
    "class DeepQLearning(AgentBase):\n",
    "    \"\"\"Implements a Q Learner with function approximation.\"\"\"\n",
    "    \n",
    "    def __init__(self,\n",
    "        env,\n",
    "        buffer_size = 200000,\n",
    "        batch_size = 64,\n",
    "        initial_epsilon = 1.0,\n",
    "        final_epsilon = 0.01,\n",
    "        epsilon_decay_duration = 100000,\n",
    "        learning_rate = 0.001,\n",
    "        num_gradient_updates = 1,\n",
    "        q_network_update_frequency = 1,\n",
    "        target_network_update_frequency = 200,\n",
    "        learning_starts_at_step = 10000):\n",
    "        \"\"\"Initializes the Agent.\n",
    "        \n",
    "        Args:\n",
    "            env: An OpenAI Gym environment.\n",
    "            buffer_size: (integer) Size of the replay buffer.\n",
    "            batch_size: (integer) Size of the mini batch.\n",
    "            initial_epsilon: (float) Initial value of epsilon.\n",
    "            final_epsilon: (float) Final value of epsilon.\n",
    "            epsilon_decay_duration: (integer) Duration over which to decay epsilon.\n",
    "            learning_rate: (float) Learning rate for Q network update.\n",
    "            num_gradient_updates: (integer) Number of stochastic gradient updates with each minibatch.\n",
    "            q_network_update_frequency: (integer) Steps after which to update Q network.\n",
    "            target_network_update_frequency: (integer) Steps after which to update target network.            \n",
    "            learning_starts_at_step: (integer) Step at which to begin learning. Before this, the \n",
    "                agent explores and collects experiences in its replay buffer.\n",
    "        \"\"\"\n",
    "        super().__init__(env=env)\n",
    "        \n",
    "        self.gamma = 0.99 # Assume a discount factor of 0.99\n",
    "        self.current_step = 0\n",
    "        self.learning_starts_at_step = learning_starts_at_step\n",
    "        self.batch_size = batch_size\n",
    "        self.num_gradient_updates = num_gradient_updates\n",
    "        self.q_network_update_frequency = q_network_update_frequency\n",
    "        self.target_network_update_frequency = target_network_update_frequency\n",
    "\n",
    "        # Create exploration scheduler\n",
    "        self.epsilon_scheduler = lambda current_step: linear_schedule_for_epsilon(\n",
    "            initial_epsilon, final_epsilon, epsilon_decay_duration, current_step)      \n",
    "\n",
    "        ######## PUT YOUR CODE HERE ########\n",
    "        self.QNetwork = QNetwork(env)\n",
    "        self.TargetNetwork = QNetwork(env)\n",
    "        self.replay_buffer = ReplayBuffer(env,buffer_size)\n",
    "        self.loss = nn.MSELoss()\n",
    "        self.optimizer = torch.optim.Adam(self.QNetwork.parameters(), lr=1e-3) # The optimizer will update ONLY the parameters of the policy network\n",
    "        self.device = torch.device(\"cuda\" if torch.cuda.is_available() else \"cpu\")\n",
    "\n",
    "        ######## PUT YOUR CODE HERE ########\n",
    "\n",
    "        self.state = env.reset()\n",
    "        self.list_returns = []\n",
    "        self.list_average_returns = []\n",
    "        self.average_return = 0.\n",
    "        self.list_moving_average_returns = []\n",
    "        self.moving_average_returns_by_step = np.empty([200000])\n",
    "    \n",
    "    @property\n",
    "    def epsilon(self):\n",
    "        return self.epsilon_scheduler(self.current_step)\n",
    "\n",
    "\n",
    "    def make_policy(self):\n",
    "        def policy_func(observation):\n",
    "            ######## PUT YOUR CODE HERE ########\n",
    "            with torch.no_grad():\n",
    "              observation = torch.FloatTensor(observation).cpu().unsqueeze(0)\n",
    "            out = self.QNetwork.forward(observation).cpu()\n",
    "\n",
    "            return torch.argmax(out).item()\n",
    "            \"\"\"\n",
    "            return torch.argmax(out).item()\n",
    "            obs_t = torch.as_tensor (observation, dtype= torch.float32)\n",
    "            q_values = QNetwork.forward(QNetwork(nn.Module),obs_t)\n",
    "            max_q_index = torch.argmax(q_values, dim = 1)\n",
    "            action = max_q_index.detach().item()\n",
    "            return action\n",
    "\n",
    "            temp = self.Q[observation]\n",
    "            best_action = np.argmax(temp)\n",
    "            return best_action  \n",
    "            \"\"\"\n",
    "            ######## PUT YOUR CODE HERE ########\n",
    "\n",
    "        return policy_func\n",
    "\n",
    "    def make_behavior_policy(self):\n",
    "        def policy_func(observation):\n",
    "            ######## PUT YOUR CODE HERE ########\n",
    "            if random.random() < self.epsilon:\n",
    "            # Random action\n",
    "                return self.env.action_space.sample()\n",
    "            else:\n",
    "                with torch.no_grad():\n",
    "                    observation = torch.FloatTensor(observation).cpu().unsqueeze(0)\n",
    "                    out = self.QNetwork.forward(observation).cpu()\n",
    "\n",
    "            return torch.argmax(out).item()\n",
    "            \"\"\" \n",
    "            prob = np.ones(env.action_space.n, dtype = float) * self.epsilon / env.action_space.n\n",
    "            best_action = np.argmax(self.Q[observation])\n",
    "            prob[best_action] += 1. - self.epsilon\n",
    "            A= np.random.choice((0,1), p= list(prob))\n",
    "            return A \n",
    "            \"\"\"  \n",
    "            ######## PUT YOUR CODE HERE ########\n",
    "\n",
    "        return policy_func\n",
    "\n",
    "\n",
    "    def update(self):\n",
    "        \"\"\"Update the agent.\"\"\"                      \n",
    "        ######## PUT YOUR CODE HERE ########\n",
    "        batch = self.replay_buffer.sample(self.batch_size)\n",
    "        states, actions, rewards, dones, next_states = batch\n",
    "        done_mask = torch.ByteTensor(dones)\n",
    "\n",
    "        \"\"\"  \n",
    "       next_observations,\n",
    "        states      = batch[0]\n",
    "        actions     = batch[1]\n",
    "        rewards     = batch[3]\n",
    "        # Compute a mask of non-final states (all the elements where the next state is not None)\n",
    "        non_final_next_states = [s[2] for s in batch if s[2] is not None] # the next state can be None if the game has ended\n",
    "        non_final_mask = [s[2] is not None for s in batch] \"\"\"\n",
    "\n",
    "        # Compute Q values \n",
    "        self.QNetwork.train()\n",
    "        q_values = self.QNetwork(states)\n",
    "        # Select the proper Q value for the corresponding action taken Q(s_t, a)\n",
    "        state_action_values = q_values.gather(1, actions.unsqueeze(1).cpu())\n",
    "\n",
    "\n",
    "        # Compute the value function of the next states using the target network V(s_{t+1}) = max_a( Q_target(s_{t+1}, a)) )\n",
    "        with torch.no_grad():\n",
    "            self.TargetNetwork.eval()\n",
    "            next_state_max_q_values = self.TargetNetwork(states).max(1)[0]\n",
    "            next_state_max_q_values[done_mask] = 0.0\n",
    "            next_state_max_q_values = next_state_max_q_values.detach()\n",
    "\n",
    "\n",
    "        # Compute the expected Q values\n",
    "        expected_state_action_values = rewards + (next_state_max_q_values * self.gamma)\n",
    "        expected_state_action_values = expected_state_action_values.unsqueeze(1)# Set the required tensor shape\n",
    "\n",
    "        # Compute the Huber loss\n",
    "        loss = self.loss_fn(state_action_values, expected_state_action_values)\n",
    "\n",
    "        # Optimize the model\n",
    "        self.optimizer.zero_grad()\n",
    "        loss.backward()\n",
    "    # Apply gradient clipping \n",
    "        nn.utils.clip_grad_norm_(self.QNetwork.parameters(), 2)\n",
    "        self.optimizer.step()\n",
    "        ######## PUT YOUR CODE HERE ########\n",
    "        \n",
    "    \n",
    "    def train(self, num_train_episodes, make_plot=False):\n",
    "        \n",
    "        for episode_idx in range(num_train_episodes):\n",
    "            # Reset environment before beginning the episode\n",
    "            done = False\n",
    "            self.state = self.env.reset()\n",
    "            episode_return = 0\n",
    "            \n",
    "            # Run the episode and update the policy \n",
    "            while not done:\n",
    "                # First, generate a step with behavior policy\n",
    "                action = self.behavior_policy(self.state)\n",
    "                next_state, reward, done, _ = self.env.step(action)\n",
    "                \n",
    "                # Update the replay buffer\n",
    "                self.replay_buffer.add(self.state, action, next_state, reward, done)\n",
    "            \n",
    "                # Second, update the agent\n",
    "                self.update()\n",
    "                \n",
    "                # Prepare for next step\n",
    "                self.state = next_state\n",
    "                self.current_step += 1\n",
    "                episode_return += reward\n",
    "                if self.current_step < 200000:\n",
    "                    if len(self.list_moving_average_returns) > 0:\n",
    "                      self.moving_average_returns_by_step[self.current_step] = self.list_moving_average_returns[-1]\n",
    "                    else:\n",
    "                      self.moving_average_returns_by_step[self.current_step] = -500.\n",
    "\n",
    "                if self.current_step % 10000 == 0:\n",
    "                    print(f\"Timestep: {self.current_step}, episode reward (moving average, 20 episodes): {round(self.list_moving_average_returns[-1],2)}\")\n",
    "            \n",
    "            # Store the return for evaluation\n",
    "            self.list_returns.append(episode_return)\n",
    "            self.average_return = np.mean(np.asarray(self.list_returns))\n",
    "            self.list_average_returns.append(self.average_return)\n",
    "\n",
    "            if len(self.list_returns) > 20:\n",
    "                self.list_moving_average_returns.append(\n",
    "                  np.mean(np.asarray(self.list_returns[-20:])))\n",
    "            else:\n",
    "                self.list_moving_average_returns.append(self.average_return)\n",
    "\n",
    "        if make_plot:\n",
    "            plt.plot(self.list_returns,'^',label=\"Return\")\n",
    "            plt.plot(self.list_average_returns,'r',label=\"Average Return (all episodes)\")\n",
    "            plt.plot(self.list_moving_average_returns,'b',label=\"Average Return (last 20 episodes)\")\n",
    "            plt.ylabel('Return')\n",
    "            plt.xlabel('Episode#')\n",
    "            plt.title('Performance during training')\n",
    "            plt.ylim(-501, 0.0)\n",
    "            plt.legend()        \n",
    "            plt.show()        "
   ]
  },
  {
   "cell_type": "markdown",
   "id": "c29295e2",
   "metadata": {
    "collapsed": false,
    "pycharm": {
     "name": "#%% md\n"
    }
   },
   "source": [
    "#### Training the Agent\n",
    "\n",
    "Having implemented the agent, now we will train it using the default hyperparameters provided in the class definition and observe its performance."
   ]
  },
  {
   "cell_type": "code",
   "execution_count": null,
   "id": "44d7b430",
   "metadata": {
    "collapsed": false,
    "pycharm": {
     "name": "#%%\n"
    }
   },
   "outputs": [],
   "source": [
    "ReplayBuffer.sample(64)"
   ]
  },
  {
   "cell_type": "code",
   "execution_count": 238,
   "id": "724e8bb4",
   "metadata": {
    "id": "724e8bb4",
    "pycharm": {
     "name": "#%%\n"
    }
   },
   "outputs": [],
   "source": [
    "env = gym.make(\"Acrobot-v1\")\n",
    "agent_001 = DeepQLearning(env)"
   ]
  },
  {
   "cell_type": "code",
   "execution_count": 241,
   "id": "3c2cb127",
   "metadata": {
    "id": "3c2cb127",
    "pycharm": {
     "name": "#%%\n"
    }
   },
   "outputs": [
    {
     "name": "stdout",
     "output_type": "stream",
     "text": [
      "Average reward -182.49\n"
     ]
    },
    {
     "data": {
      "image/png": "[encoded data removed]",
      "text/plain": [
       "<Figure size 640x480 with 1 Axes>"
      ]
     },
     "metadata": {},
     "output_type": "display_data"
    }
   ],
   "source": [
    "agent_001.evaluate(plot_title=\"Performance before training\", num_eval_episodes=100)"
   ]
  },
  {
   "cell_type": "code",
   "execution_count": 243,
   "id": "06932c10",
   "metadata": {
    "id": "06932c10",
    "pycharm": {
     "name": "#%%\n"
    }
   },
   "outputs": [
    {
     "ename": "TypeError",
     "evalue": "expected TensorOptions(dtype=unsigned char, device=cpu, layout=Strided, requires_grad=false (default), pinned_memory=false (default), memory_format=(nullopt)) (got TensorOptions(dtype=float, device=cpu, layout=Strided, requires_grad=false (default), pinned_memory=false (default), memory_format=(nullopt)))",
     "output_type": "error",
     "traceback": [
      "\u001b[0;31m---------------------------------------------------------------------------\u001b[0m",
      "\u001b[0;31mTypeError\u001b[0m                                 Traceback (most recent call last)",
      "Cell \u001b[0;32mIn [243], line 1\u001b[0m\n\u001b[0;32m----> 1\u001b[0m agent_001\u001b[39m.\u001b[39mtrain(\u001b[39m1000\u001b[39m, make_plot\u001b[39m=\u001b[39m\u001b[39mTrue\u001b[39;00m)\n",
      "Cell \u001b[0;32mIn [237], line 181\u001b[0m, in \u001b[0;36mDeepQLearning.train\u001b[0;34m(self, num_train_episodes, make_plot)\u001b[0m\n\u001b[1;32m    178\u001b[0m \u001b[39mself\u001b[39m\u001b[39m.\u001b[39mreplay_buffer\u001b[39m.\u001b[39madd(\u001b[39mself\u001b[39m\u001b[39m.\u001b[39mstate, action, next_state, reward, done)\n\u001b[1;32m    180\u001b[0m \u001b[39m# Second, update the agent\u001b[39;00m\n\u001b[0;32m--> 181\u001b[0m \u001b[39mself\u001b[39;49m\u001b[39m.\u001b[39;49mupdate()\n\u001b[1;32m    183\u001b[0m \u001b[39m# Prepare for next step\u001b[39;00m\n\u001b[1;32m    184\u001b[0m \u001b[39mself\u001b[39m\u001b[39m.\u001b[39mstate \u001b[39m=\u001b[39m next_state\n",
      "Cell \u001b[0;32mIn [237], line 121\u001b[0m, in \u001b[0;36mDeepQLearning.update\u001b[0;34m(self)\u001b[0m\n\u001b[1;32m    119\u001b[0m  batch \u001b[39m=\u001b[39m \u001b[39mself\u001b[39m\u001b[39m.\u001b[39mreplay_buffer\u001b[39m.\u001b[39msample(\u001b[39mself\u001b[39m\u001b[39m.\u001b[39mbatch_size)\n\u001b[1;32m    120\u001b[0m  states, actions, rewards, dones, next_states \u001b[39m=\u001b[39m batch\n\u001b[0;32m--> 121\u001b[0m  done_mask \u001b[39m=\u001b[39m torch\u001b[39m.\u001b[39;49mByteTensor(dones)\n\u001b[1;32m    123\u001b[0m  \u001b[39m\"\"\"  \u001b[39;00m\n\u001b[1;32m    124\u001b[0m \u001b[39mnext_observations,\u001b[39;00m\n\u001b[1;32m    125\u001b[0m \u001b[39m states      = batch[0]\u001b[39;00m\n\u001b[0;32m   (...)\u001b[0m\n\u001b[1;32m    129\u001b[0m \u001b[39m non_final_next_states = [s[2] for s in batch if s[2] is not None] # the next state can be None if the game has ended\u001b[39;00m\n\u001b[1;32m    130\u001b[0m \u001b[39m non_final_mask = [s[2] is not None for s in batch] \"\"\"\u001b[39;00m\n\u001b[1;32m    132\u001b[0m  \u001b[39m# Compute Q values \u001b[39;00m\n",
      "\u001b[0;31mTypeError\u001b[0m: expected TensorOptions(dtype=unsigned char, device=cpu, layout=Strided, requires_grad=false (default), pinned_memory=false (default), memory_format=(nullopt)) (got TensorOptions(dtype=float, device=cpu, layout=Strided, requires_grad=false (default), pinned_memory=false (default), memory_format=(nullopt)))"
     ]
    }
   ],
   "source": [
    "agent_001.train(1000, make_plot=True)"
   ]
  },
  {
   "cell_type": "code",
   "execution_count": 123,
   "id": "JcvssSrlJylN",
   "metadata": {
    "id": "JcvssSrlJylN",
    "pycharm": {
     "name": "#%%\n"
    }
   },
   "outputs": [
    {
     "name": "stdout",
     "output_type": "stream",
     "text": [
      "Average reward -500.0\n"
     ]
    },
    {
     "data": {
      "image/png": "[encoded data removed]",
      "text/plain": [
       "<Figure size 640x480 with 1 Axes>"
      ]
     },
     "metadata": {},
     "output_type": "display_data"
    }
   ],
   "source": [
    "agent_001.evaluate(plot_title=\"Performance after training\", num_eval_episodes=100)"
   ]
  },
  {
   "cell_type": "markdown",
   "id": "xRvLQpb6XKOJ",
   "metadata": {
    "id": "xRvLQpb6XKOJ",
    "pycharm": {
     "name": "#%% md\n"
    }
   },
   "source": [
    "## Problem 1.2\n",
    "\n",
    "Now that we have implemented the general recipe, let us run ablation studies to assess importance of different components of the Deep Q Learning algorithm.\n",
    "\n",
    "First, we will implement and assess the performance of the original Q Learning with naive function approximation, i.e., without the use of replay buffer and target networks. Note that this is a special case of our general recipe and, in general, we do not expect to work in practice. Let us see if it works for the Acrobot environment."
   ]
  },
  {
   "cell_type": "code",
   "execution_count": null,
   "id": "_V4_ZE-4fRv4",
   "metadata": {
    "id": "_V4_ZE-4fRv4",
    "pycharm": {
     "name": "#%%\n"
    }
   },
   "outputs": [],
   "source": [
    "class OnlineDeepQLearning(DeepQLearning):\n",
    "    \"\"\"Implements Online Q Learner with function approximation.\"\"\"\n",
    "    \n",
    "    ######## PUT YOUR CODE HERE ########\n",
    "\n",
    "    ######## PUT YOUR CODE HERE ########"
   ]
  },
  {
   "cell_type": "code",
   "execution_count": null,
   "id": "xPWojLBQbmwG",
   "metadata": {
    "id": "xPWojLBQbmwG",
    "pycharm": {
     "name": "#%%\n"
    }
   },
   "outputs": [],
   "source": [
    "env = gym.make(\"Acrobot-v1\")\n",
    "agent_002 = OnlineDeepQLearning(env)"
   ]
  },
  {
   "cell_type": "code",
   "execution_count": null,
   "id": "fLIV58UtcAC2",
   "metadata": {
    "id": "fLIV58UtcAC2",
    "pycharm": {
     "name": "#%%\n"
    }
   },
   "outputs": [],
   "source": [
    "agent_002.train(500, make_plot=True)"
   ]
  },
  {
   "cell_type": "markdown",
   "id": "q_JhG9ZUds3O",
   "metadata": {
    "id": "q_JhG9ZUds3O",
    "pycharm": {
     "name": "#%% md\n"
    }
   },
   "source": [
    "Now let us bring back one of the components at a time that made the algorithm successful in Problem 1. First, we will bring back only the replay buffer (and not the target network) and observe its effect on the agent's performance."
   ]
  },
  {
   "cell_type": "code",
   "execution_count": null,
   "id": "cfaEKoe6hkBv",
   "metadata": {
    "id": "cfaEKoe6hkBv",
    "pycharm": {
     "name": "#%%\n"
    }
   },
   "outputs": [],
   "source": [
    "class DeepQLearningWithoutTargetNetwork(DeepQLearning):\n",
    "    \"\"\"Implements a Deep Q Learner without target network.\"\"\"\n",
    "    \n",
    "    ######## PUT YOUR CODE HERE ########\n",
    "\n",
    "    ######## PUT YOUR CODE HERE ########"
   ]
  },
  {
   "cell_type": "code",
   "execution_count": null,
   "id": "fkmpYdDTd-WL",
   "metadata": {
    "id": "fkmpYdDTd-WL",
    "pycharm": {
     "name": "#%%\n"
    }
   },
   "outputs": [],
   "source": [
    "env = gym.make(\"Acrobot-v1\")\n",
    "agent_003 = DeepQLearningWithoutTargetNetwork(env)"
   ]
  },
  {
   "cell_type": "code",
   "execution_count": null,
   "id": "_kc9HBMGeaHK",
   "metadata": {
    "colab": {
     "background_save": true
    },
    "id": "_kc9HBMGeaHK",
    "pycharm": {
     "name": "#%%\n"
    }
   },
   "outputs": [],
   "source": [
    "agent_003.train(1000, make_plot=True)"
   ]
  },
  {
   "cell_type": "markdown",
   "id": "6f-kt9K_e-vU",
   "metadata": {
    "id": "6f-kt9K_e-vU",
    "pycharm": {
     "name": "#%% md\n"
    }
   },
   "source": [
    "Next, we will bring back only the target network (and not the replay buffer) and observe its effect on the agent's performance."
   ]
  },
  {
   "cell_type": "code",
   "execution_count": null,
   "id": "oCKmIA-fh_6N",
   "metadata": {
    "id": "oCKmIA-fh_6N",
    "pycharm": {
     "name": "#%%\n"
    }
   },
   "outputs": [],
   "source": [
    "class DeepQLearningWithoutReplayBuffer(DeepQLearning):\n",
    "    \"\"\"Implements a Deep Q Learner without replay buffer.\"\"\"\n",
    "    ######## PUT YOUR CODE HERE ########\n",
    "\n",
    "    ######## PUT YOUR CODE HERE ########"
   ]
  },
  {
   "cell_type": "code",
   "execution_count": null,
   "id": "QD788cSIieA6",
   "metadata": {
    "id": "QD788cSIieA6",
    "pycharm": {
     "name": "#%%\n"
    }
   },
   "outputs": [],
   "source": [
    "env = gym.make(\"Acrobot-v1\")\n",
    "agent_004 = DeepQLearningWithoutReplayBuffer(env)"
   ]
  },
  {
   "cell_type": "code",
   "execution_count": null,
   "id": "4CNVjTdPid2G",
   "metadata": {
    "id": "4CNVjTdPid2G",
    "pycharm": {
     "name": "#%%\n"
    }
   },
   "outputs": [],
   "source": [
    "agent_004.train(1000, make_plot=True)"
   ]
  },
  {
   "cell_type": "markdown",
   "id": "mXK_YMAYi8sx",
   "metadata": {
    "id": "mXK_YMAYi8sx",
    "pycharm": {
     "name": "#%% md\n"
    }
   },
   "source": [
    "In a single plot, show the performance of the four variants that you have implemented above. Specifications of the plot\n",
    "- X axis: Number of Timesteps (0 to 100000)\n",
    "- Y axis: 20-episode simple moving average of episodic rewards."
   ]
  },
  {
   "cell_type": "code",
   "execution_count": null,
   "id": "FQyBCL7HjIs_",
   "metadata": {
    "id": "FQyBCL7HjIs_",
    "pycharm": {
     "name": "#%%\n"
    }
   },
   "outputs": [],
   "source": [
    "######## PUT YOUR CODE HERE ########\n",
    "\n",
    "######## PUT YOUR CODE HERE ########"
   ]
  },
  {
   "cell_type": "markdown",
   "id": "qbs90XholVCz",
   "metadata": {
    "id": "qbs90XholVCz",
    "pycharm": {
     "name": "#%% md\n"
    }
   },
   "source": [
    "## Problem 1.3\n",
    "\n",
    "Select any one hyperparameter of the DeepQLearning agent and study its effect on the agent's performance. You should try at least five different values of this hyperparameter. In a single plot, show the performance of the agent for different values of hyperparameter.  Specifications of the plot\n",
    "- X axis: Number of Timesteps (0 to 100000)\n",
    "- Y axis: 20-episode simple moving average of episodic rewards.\n"
   ]
  },
  {
   "cell_type": "code",
   "execution_count": null,
   "id": "j9JlG7oqwEha",
   "metadata": {
    "id": "j9JlG7oqwEha",
    "pycharm": {
     "name": "#%%\n"
    }
   },
   "outputs": [],
   "source": [
    "######## PUT YOUR CODE HERE ########\n",
    "\n",
    "######## PUT YOUR CODE HERE ########"
   ]
  },
  {
   "cell_type": "markdown",
   "id": "tffNcpDjveBG",
   "metadata": {
    "id": "tffNcpDjveBG",
    "pycharm": {
     "name": "#%% md\n"
    }
   },
   "source": [
    "## Problem 1.4\n",
    "\n",
    "While applying RL in real world, you may consider the use of off-the-shelf implementation of RL algorithms. The package [Stable Baselines 3](stable-baselines3.readthedocs.io/) aims to provide a set of reliable implementations of RL algorithms in PyTorch. \n",
    "\n",
    "Familiarize yourself with this package and use its implementation of Deep Q Network to learn the optimal policy for the Acrobot environment."
   ]
  },
  {
   "cell_type": "code",
   "execution_count": null,
   "id": "OLCEfJRQqhjx",
   "metadata": {
    "id": "OLCEfJRQqhjx",
    "pycharm": {
     "name": "#%%\n"
    }
   },
   "outputs": [],
   "source": [
    "######## PUT YOUR CODE HERE ########\n",
    "\n",
    "######## PUT YOUR CODE HERE ########"
   ]
  },
  {
   "cell_type": "markdown",
   "id": "oJ8_eWPewRtB",
   "metadata": {
    "id": "oJ8_eWPewRtB",
    "pycharm": {
     "name": "#%% md\n"
    }
   },
   "source": [
    "In a single plot, compare the performance of your implementation of the algorithm in Problem 1.1. with the one that you implemented above (Problem 1.4). Specifications of the plot\n",
    "- X axis: Number of Timesteps (0 to 100000)\n",
    "- Y axis: 20-episode simple moving average of episodic rewards."
   ]
  },
  {
   "cell_type": "code",
   "execution_count": null,
   "id": "vFZP_dinqo4M",
   "metadata": {
    "id": "vFZP_dinqo4M",
    "pycharm": {
     "name": "#%%\n"
    }
   },
   "outputs": [],
   "source": [
    "######## PUT YOUR CODE HERE ########\n",
    "\n",
    "######## PUT YOUR CODE HERE ########"
   ]
  }
 ],
 "metadata": {
  "colab": {
   "collapsed_sections": [],
   "provenance": []
  },
  "kernelspec": {
   "display_name": "Python 3.8.5 ('base')",
   "language": "python",
   "name": "python3"
  },
  "language_info": {
   "codemirror_mode": {
    "name": "ipython",
    "version": 3
   },
   "file_extension": ".py",
   "mimetype": "text/x-python",
   "name": "python",
   "nbconvert_exporter": "python",
   "pygments_lexer": "ipython3",
   "version": "3.8.5"
  },
  "vscode": {
   "interpreter": {
    "hash": "5542afc9645e829686dd49431b87fb87d8247b98aee894d9a9effffe0045c8ca"
   }
  }
 },
 "nbformat": 4,
 "nbformat_minor": 5
}
